{
 "cells": [
  {
   "cell_type": "code",
   "execution_count": 1,
   "metadata": {},
   "outputs": [],
   "source": [
    "# -*-coding:utf8-*-\n",
    "import pandas as pd\n",
    "from wilson_modules import msg_count\n",
    "from wilson_modules import data_process\n",
    "import pandas as pd\n",
    "from my_package import to_mysql"
   ]
  },
  {
   "cell_type": "code",
   "execution_count": 2,
   "metadata": {},
   "outputs": [],
   "source": [
    "df = pd.read_csv('/home/wilson/Desktop/databases/content_sig_labeling_withNaN.csv')"
   ]
  },
  {
   "cell_type": "markdown",
   "metadata": {},
   "source": [
    "### count messages for every user in database "
   ]
  },
  {
   "cell_type": "code",
   "execution_count": 3,
   "metadata": {},
   "outputs": [],
   "source": [
    "df_name_sig = msg_count.count_msg(df)"
   ]
  },
  {
   "cell_type": "code",
   "execution_count": 4,
   "metadata": {},
   "outputs": [],
   "source": [
    "df_name_sig.index.name='user_nickname'\n",
    "df_name_sig.reset_index(inplace=True)"
   ]
  },
  {
   "cell_type": "code",
   "execution_count": 5,
   "metadata": {},
   "outputs": [
    {
     "data": {
      "text/html": [
       "<div>\n",
       "<style scoped>\n",
       "    .dataframe tbody tr th:only-of-type {\n",
       "        vertical-align: middle;\n",
       "    }\n",
       "\n",
       "    .dataframe tbody tr th {\n",
       "        vertical-align: top;\n",
       "    }\n",
       "\n",
       "    .dataframe thead th {\n",
       "        text-align: right;\n",
       "    }\n",
       "</style>\n",
       "<table border=\"1\" class=\"dataframe\">\n",
       "  <thead>\n",
       "    <tr style=\"text-align: right;\">\n",
       "      <th></th>\n",
       "      <th>user_nickname</th>\n",
       "      <th>content</th>\n",
       "      <th>region</th>\n",
       "      <th>city</th>\n",
       "      <th>signature</th>\n",
       "      <th>msg_count</th>\n",
       "    </tr>\n",
       "  </thead>\n",
       "  <tbody>\n",
       "    <tr>\n",
       "      <th>0</th>\n",
       "      <td>巫教练</td>\n",
       "      <td>恭喜恭喜！</td>\n",
       "      <td>NaN</td>\n",
       "      <td>NaN</td>\n",
       "      <td>明通驾校一温莎首家华人驾校\\n电话:519—257—8840</td>\n",
       "      <td>29</td>\n",
       "    </tr>\n",
       "    <tr>\n",
       "      <th>1</th>\n",
       "      <td>YiF</td>\n",
       "      <td>哦</td>\n",
       "      <td>Ontario</td>\n",
       "      <td>Toronto</td>\n",
       "      <td>YiF，没有如果</td>\n",
       "      <td>2</td>\n",
       "    </tr>\n",
       "    <tr>\n",
       "      <th>2</th>\n",
       "      <td>Jim</td>\n",
       "      <td>面对罪犯挥舞手中的手枪，那个警员冒着危险，冷静处理这事，抓住了罪犯，值得称赞👍 - 这种情况...</td>\n",
       "      <td>Toronto</td>\n",
       "      <td>NaN</td>\n",
       "      <td>最后让冰溶解的一定是春天</td>\n",
       "      <td>4</td>\n",
       "    </tr>\n",
       "    <tr>\n",
       "      <th>3</th>\n",
       "      <td>塬</td>\n",
       "      <td>周教练教的好[呲牙]</td>\n",
       "      <td>陕西</td>\n",
       "      <td>西安</td>\n",
       "      <td>NaN</td>\n",
       "      <td>1</td>\n",
       "    </tr>\n",
       "    <tr>\n",
       "      <th>4</th>\n",
       "      <td>銘銘</td>\n",
       "      <td>提供明天中午去多伦多的carpool</td>\n",
       "      <td>北京</td>\n",
       "      <td>海淀</td>\n",
       "      <td>NaN</td>\n",
       "      <td>2</td>\n",
       "    </tr>\n",
       "  </tbody>\n",
       "</table>\n",
       "</div>"
      ],
      "text/plain": [
       "  user_nickname                                            content   region  \\\n",
       "0           巫教练                                              恭喜恭喜！      NaN   \n",
       "1           YiF                                                  哦  Ontario   \n",
       "2           Jim  面对罪犯挥舞手中的手枪，那个警员冒着危险，冷静处理这事，抓住了罪犯，值得称赞👍 - 这种情况...  Toronto   \n",
       "3             塬                                         周教练教的好[呲牙]       陕西   \n",
       "4            銘銘                                 提供明天中午去多伦多的carpool       北京   \n",
       "\n",
       "      city                       signature  msg_count  \n",
       "0      NaN  明通驾校一温莎首家华人驾校\\n电话:519—257—8840         29  \n",
       "1  Toronto                        YiF，没有如果          2  \n",
       "2      NaN                    最后让冰溶解的一定是春天          4  \n",
       "3       西安                             NaN          1  \n",
       "4       海淀                             NaN          2  "
      ]
     },
     "execution_count": 5,
     "metadata": {},
     "output_type": "execute_result"
    }
   ],
   "source": [
    "df_name_sig.head()"
   ]
  },
  {
   "cell_type": "markdown",
   "metadata": {},
   "source": [
    "### convert signature and username to numeric data"
   ]
  },
  {
   "cell_type": "code",
   "execution_count": 6,
   "metadata": {},
   "outputs": [],
   "source": [
    "df_name_sig['signature'] = df_name_sig['signature'].fillna(0)\n",
    "df_string = data_process.apply_and_concat(df_name_sig, 'signature', data_process.string_len, ['count_en', 'count_dg', 'count_sp', 'count_zh', 'count_pu'])\n",
    "df_string['ads_status'] = df_name_sig['signature'].apply(data_process.ads_search)\n",
    "df_string['phone_status'] = df_name_sig['signature'].apply(data_process.phone_search)\n",
    "df_string = data_process.apply_and_concat(df_string, 'signature', data_process.count_words, ['kind_words', 'num_words'])\n",
    "# dealing with the user_nickname\n",
    "df_string['name_status'] = df_name_sig['user_nickname'].apply(data_process.ads_search)\n",
    "df_string['name_phone'] = df_name_sig['user_nickname'].apply(data_process.phone_search)"
   ]
  },
  {
   "cell_type": "code",
   "execution_count": 7,
   "metadata": {},
   "outputs": [],
   "source": [
    "df_string.drop(['content','region','city','signature'],axis=1,inplace=True)"
   ]
  },
  {
   "cell_type": "code",
   "execution_count": 8,
   "metadata": {},
   "outputs": [],
   "source": [
    "df_string.to_csv('/home/wilson/Desktop/databases/numeric_data.csv',line_terminator='\\r\\n')"
   ]
  },
  {
   "cell_type": "code",
   "execution_count": 9,
   "metadata": {},
   "outputs": [
    {
     "data": {
      "text/html": [
       "<div>\n",
       "<style scoped>\n",
       "    .dataframe tbody tr th:only-of-type {\n",
       "        vertical-align: middle;\n",
       "    }\n",
       "\n",
       "    .dataframe tbody tr th {\n",
       "        vertical-align: top;\n",
       "    }\n",
       "\n",
       "    .dataframe thead th {\n",
       "        text-align: right;\n",
       "    }\n",
       "</style>\n",
       "<table border=\"1\" class=\"dataframe\">\n",
       "  <thead>\n",
       "    <tr style=\"text-align: right;\">\n",
       "      <th></th>\n",
       "      <th>user_nickname</th>\n",
       "      <th>msg_count</th>\n",
       "      <th>count_en</th>\n",
       "      <th>count_dg</th>\n",
       "      <th>count_sp</th>\n",
       "      <th>count_zh</th>\n",
       "      <th>count_pu</th>\n",
       "      <th>ads_status</th>\n",
       "      <th>phone_status</th>\n",
       "      <th>kind_words</th>\n",
       "      <th>num_words</th>\n",
       "      <th>name_status</th>\n",
       "      <th>name_phone</th>\n",
       "    </tr>\n",
       "  </thead>\n",
       "  <tbody>\n",
       "    <tr>\n",
       "      <th>0</th>\n",
       "      <td>巫教练</td>\n",
       "      <td>29</td>\n",
       "      <td>0</td>\n",
       "      <td>10</td>\n",
       "      <td>1</td>\n",
       "      <td>15</td>\n",
       "      <td>3</td>\n",
       "      <td>0</td>\n",
       "      <td>0</td>\n",
       "      <td>3</td>\n",
       "      <td>3</td>\n",
       "      <td>0</td>\n",
       "      <td>1</td>\n",
       "    </tr>\n",
       "    <tr>\n",
       "      <th>1</th>\n",
       "      <td>YiF</td>\n",
       "      <td>2</td>\n",
       "      <td>3</td>\n",
       "      <td>0</td>\n",
       "      <td>0</td>\n",
       "      <td>4</td>\n",
       "      <td>1</td>\n",
       "      <td>1</td>\n",
       "      <td>1</td>\n",
       "      <td>1</td>\n",
       "      <td>1</td>\n",
       "      <td>1</td>\n",
       "      <td>1</td>\n",
       "    </tr>\n",
       "    <tr>\n",
       "      <th>2</th>\n",
       "      <td>Jim</td>\n",
       "      <td>4</td>\n",
       "      <td>0</td>\n",
       "      <td>0</td>\n",
       "      <td>0</td>\n",
       "      <td>12</td>\n",
       "      <td>0</td>\n",
       "      <td>1</td>\n",
       "      <td>1</td>\n",
       "      <td>0</td>\n",
       "      <td>0</td>\n",
       "      <td>1</td>\n",
       "      <td>1</td>\n",
       "    </tr>\n",
       "    <tr>\n",
       "      <th>3</th>\n",
       "      <td>塬</td>\n",
       "      <td>1</td>\n",
       "      <td>0</td>\n",
       "      <td>0</td>\n",
       "      <td>0</td>\n",
       "      <td>0</td>\n",
       "      <td>0</td>\n",
       "      <td>1</td>\n",
       "      <td>1</td>\n",
       "      <td>0</td>\n",
       "      <td>0</td>\n",
       "      <td>1</td>\n",
       "      <td>1</td>\n",
       "    </tr>\n",
       "    <tr>\n",
       "      <th>4</th>\n",
       "      <td>銘銘</td>\n",
       "      <td>2</td>\n",
       "      <td>0</td>\n",
       "      <td>0</td>\n",
       "      <td>0</td>\n",
       "      <td>0</td>\n",
       "      <td>0</td>\n",
       "      <td>1</td>\n",
       "      <td>1</td>\n",
       "      <td>0</td>\n",
       "      <td>0</td>\n",
       "      <td>1</td>\n",
       "      <td>1</td>\n",
       "    </tr>\n",
       "  </tbody>\n",
       "</table>\n",
       "</div>"
      ],
      "text/plain": [
       "  user_nickname  msg_count  count_en  count_dg  count_sp  count_zh  count_pu  \\\n",
       "0           巫教练         29         0        10         1        15         3   \n",
       "1           YiF          2         3         0         0         4         1   \n",
       "2           Jim          4         0         0         0        12         0   \n",
       "3             塬          1         0         0         0         0         0   \n",
       "4            銘銘          2         0         0         0         0         0   \n",
       "\n",
       "   ads_status  phone_status  kind_words  num_words  name_status  name_phone  \n",
       "0           0             0           3          3            0           1  \n",
       "1           1             1           1          1            1           1  \n",
       "2           1             1           0          0            1           1  \n",
       "3           1             1           0          0            1           1  \n",
       "4           1             1           0          0            1           1  "
      ]
     },
     "execution_count": 9,
     "metadata": {},
     "output_type": "execute_result"
    }
   ],
   "source": [
    "df_string.head()"
   ]
  },
  {
   "cell_type": "code",
   "execution_count": null,
   "metadata": {},
   "outputs": [],
   "source": []
  }
 ],
 "metadata": {
  "kernelspec": {
   "display_name": "Python 3",
   "language": "python",
   "name": "python3"
  },
  "language_info": {
   "codemirror_mode": {
    "name": "ipython",
    "version": 3
   },
   "file_extension": ".py",
   "mimetype": "text/x-python",
   "name": "python",
   "nbconvert_exporter": "python",
   "pygments_lexer": "ipython3",
   "version": "3.5.2"
  }
 },
 "nbformat": 4,
 "nbformat_minor": 2
}
